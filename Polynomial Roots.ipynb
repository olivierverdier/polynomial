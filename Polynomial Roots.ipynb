{
 "cells": [
  {
   "cell_type": "code",
   "execution_count": null,
   "metadata": {
    "collapsed": false,
    "jupyter": {
     "outputs_hidden": false
    }
   },
   "outputs": [],
   "source": [
    "#from polynomial import *\n",
    "%run polynomial.py\n",
    "import numpy as np\n",
    "%matplotlib inline\n",
    "import matplotlib.pyplot as plt\n",
    "import math"
   ]
  },
  {
   "cell_type": "markdown",
   "metadata": {},
   "source": [
    "Using polynomials and shifts"
   ]
  },
  {
   "cell_type": "markdown",
   "metadata": {},
   "source": [
    "The following function defines the list\n",
    "\\\\[f(n) = [∞, 1!, 2!,\\ldots, (n-1)!]\\\\]"
   ]
  },
  {
   "cell_type": "code",
   "execution_count": null,
   "metadata": {},
   "outputs": [],
   "source": [
    "def texp(k):\n",
    "    return np.hstack([np.inf, np.cumprod(np.arange(k-1)+1)])"
   ]
  },
  {
   "cell_type": "markdown",
   "metadata": {},
   "source": [
    "Now define an approximation of \\\\(\\exp(x)-1 = \\sum_{k=1}^{∞}x^k/k!\\\\) by\n",
    "\\\\[\n",
    "p_n(x) := \\sum_{k=1}^{n-1} \\frac{x^k}{k!}\n",
    "\\\\]"
   ]
  },
  {
   "cell_type": "code",
   "execution_count": null,
   "metadata": {},
   "outputs": [],
   "source": [
    "def poly_expm1(k):\n",
    "    return Polynomial(1./texp(k))"
   ]
  },
  {
   "cell_type": "markdown",
   "metadata": {},
   "source": [
    "Compare the approximation \\\\(p_{20}\\\\) with the true function on the imaginary axis."
   ]
  },
  {
   "cell_type": "code",
   "execution_count": null,
   "metadata": {
    "collapsed": false,
    "jupyter": {
     "outputs_hidden": false
    }
   },
   "outputs": [],
   "source": [
    "def plot_both_imaginary(k=20, x=.9*3*np.pi):\n",
    "    y = 1\n",
    "    #plt.figure(figsize=(zoom*2*x,zoom*y))\n",
    "    xs = np.linspace(-x,x,200)\n",
    "    zs = 1j*xs\n",
    "    expected = np.expm1(zs)\n",
    "    computed = poly_expm1(k)(zs)\n",
    "    plt.subplot(1,2,1)\n",
    "    for vals in [computed, expected]:\n",
    "        plt.plot(np.real(vals), np.imag(vals))\n",
    "        plt.axis('scaled')\n",
    "    plt.subplot(1,2,2)\n",
    "    plt.plot(xs, np.imag(expected))\n",
    "    plt.plot(xs, np.imag(computed))\n",
    "    plt.axis('scaled')\n",
    "    plt.grid(ls='-', alpha=.2)"
   ]
  },
  {
   "cell_type": "code",
   "execution_count": null,
   "metadata": {},
   "outputs": [],
   "source": [
    "plot_both_imaginary()"
   ]
  },
  {
   "cell_type": "code",
   "execution_count": null,
   "metadata": {},
   "outputs": [],
   "source": [
    "plot_both_imaginary(10, 4)"
   ]
  },
  {
   "cell_type": "code",
   "execution_count": null,
   "metadata": {
    "collapsed": false,
    "jupyter": {
     "outputs_hidden": false
    }
   },
   "outputs": [],
   "source": [
    "for s,k in enumerate(range(15,40,5)):\n",
    "    p = poly_expm1(k)\n",
    "    zeros = p.zeros()\n",
    "    plt.plot(np.real(zeros), np.imag(zeros), ls='', marker='o', label=\"{}\".format(k), markersize=s+3)\n",
    "plt.legend(bbox_to_anchor=(1.2,1.))\n",
    "plt.grid(ls='-', alpha=.2)\n",
    "plt.axis('scaled')"
   ]
  },
  {
   "cell_type": "code",
   "execution_count": null,
   "metadata": {
    "collapsed": false,
    "jupyter": {
     "outputs_hidden": false
    }
   },
   "outputs": [],
   "source": [
    "def plot_abs(k):\n",
    "    p = poly_expm1(k)\n",
    "    zeros = p.zeros()\n",
    "    #def get_grid(x0,x1,y0,y1)\n",
    "    margin = 1\n",
    "    xmin = np.min(np.real(zeros)) - margin\n",
    "    xmax = np.max(np.real(zeros)) + margin\n",
    "    ymin = np.min(np.imag(zeros)) - margin\n",
    "    ymax = np.max(np.imag(zeros)) + margin\n",
    "    res = 100\n",
    "    xs,ys = np.meshgrid(np.linspace(xmin,xmax,res), np.linspace(ymin,ymax,res))\n",
    "    zs = 10*np.log10(np.abs(p(xs + 1j*ys))+np.finfo(float).eps)\n",
    "    \n",
    "    CS=plt.contour(xs,ys,zs)\n",
    "    plt.clabel(CS, inline=1, fontsize=5)\n",
    "    plt.plot(np.real(zeros), np.imag(zeros), ls='', marker='o')\n",
    "    plt.axis('scaled')\n",
    "    plt.grid(ls='-', alpha=.2)\n",
    "    plt.title(k)\n"
   ]
  },
  {
   "cell_type": "code",
   "execution_count": null,
   "metadata": {},
   "outputs": [],
   "source": [
    "plot_abs(32)"
   ]
  },
  {
   "cell_type": "code",
   "execution_count": null,
   "metadata": {},
   "outputs": [],
   "source": [
    "plot_abs(10)"
   ]
  },
  {
   "cell_type": "code",
   "execution_count": null,
   "metadata": {},
   "outputs": [],
   "source": [
    "plot_abs(44)"
   ]
  },
  {
   "cell_type": "markdown",
   "metadata": {},
   "source": [
    "Using a Taylor basis"
   ]
  },
  {
   "cell_type": "markdown",
   "metadata": {},
   "source": [
    "The basis is $ω^k X^k/k!$. A vector with coordinates $x_i$ represents the polynomial\n",
    "\\\\[\n",
    "x_0 + x_1 ωX + x_2 ω^2X^2/2! + \\cdots = ∑_i x_i \\frac{ω^i X^i}{i!}\n",
    "\\\\]\n",
    "The shift operation is thus\n",
    "\\begin{align}\n",
    "X e_i = (i+1)/ω e_{i+1}\n",
    "\\end{align}\n",
    "\n",
    "We look for the roots of the polynomial of degree $n$\n",
    "\\begin{align}\n",
    "P = ∑_i^{n} p_i e_i\n",
    "\\end{align}\n",
    "and $p_{n} = 1$,\n",
    "so\n",
    "\\begin{align}\n",
    "e_n = -∑_{i=0}^{n-1} p_i e_i\n",
    "\\end{align}\n",
    "so \n",
    "\\begin{align}\n",
    "X e_{n-1} = \\frac{n}{ω} e_n = -\\frac{n}{ω}∑_i p_i e_i\n",
    "\\end{align}\n"
   ]
  },
  {
   "cell_type": "code",
   "execution_count": null,
   "metadata": {},
   "outputs": [],
   "source": [
    "def get_matrix(coeffs):\n",
    "    ohm = 2*np.pi\n",
    "    \n",
    "    n = len(coeffs) + 1\n",
    "    shift = np.arange(n-2, dtype=complex)+1\n",
    "    matrix = np.diag(shift, k=-1)\n",
    "    matrix[:,-1] = n*coeffs\n",
    "    return matrix"
   ]
  },
  {
   "cell_type": "code",
   "execution_count": null,
   "metadata": {},
   "outputs": [],
   "source": [
    "def get_expm1_matrix(n):\n",
    "    coeffs = np.ones(n)\n",
    "    coeffs[0] = 0\n",
    "    return get_matrix(coeffs)/(2*np.pi)"
   ]
  },
  {
   "cell_type": "code",
   "execution_count": null,
   "metadata": {
    "collapsed": false,
    "jupyter": {
     "outputs_hidden": false
    }
   },
   "outputs": [],
   "source": [
    "get_expm1_matrix(4)"
   ]
  },
  {
   "cell_type": "code",
   "execution_count": null,
   "metadata": {},
   "outputs": [],
   "source": [
    "def plot_eigvals(es):\n",
    "    plt.plot(np.real(es), np.imag(es), ls=' ', marker='o', ms=1)"
   ]
  },
  {
   "cell_type": "code",
   "execution_count": null,
   "metadata": {
    "collapsed": false,
    "jupyter": {
     "outputs_hidden": false
    }
   },
   "outputs": [],
   "source": [
    "for size in range(50,350,50):\n",
    "    plot_eigvals(np.linalg.eigvals(get_expm1_matrix(size)))\n",
    "plt.grid(ls='-', alpha=.2)"
   ]
  }
 ],
 "metadata": {
  "kernelspec": {
   "display_name": "Python 3 (ipykernel)",
   "language": "python",
   "name": "python3"
  },
  "language_info": {
   "codemirror_mode": {
    "name": "ipython",
    "version": 3
   },
   "file_extension": ".py",
   "mimetype": "text/x-python",
   "name": "python",
   "nbconvert_exporter": "python",
   "pygments_lexer": "ipython3",
   "version": "3.12.2"
  }
 },
 "nbformat": 4,
 "nbformat_minor": 4
}
